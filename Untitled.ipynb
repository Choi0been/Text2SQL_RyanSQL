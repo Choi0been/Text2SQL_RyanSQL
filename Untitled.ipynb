{
 "cells": [
  {
   "cell_type": "code",
   "execution_count": null,
   "id": "21178ce1-9ecc-4593-8cf9-642e9149ff0d",
   "metadata": {},
   "outputs": [],
   "source": [
    "!pwd"
   ]
  },
  {
   "cell_type": "code",
   "execution_count": null,
   "id": "6b6e9035-7bc7-4542-bd76-bf37ac0f2e9e",
   "metadata": {},
   "outputs": [],
   "source": [
    "dd\n"
   ]
  },
  {
   "cell_type": "code",
   "execution_count": null,
   "id": "aacf0f7a-6afb-45f1-b8d8-464c17ee30e5",
   "metadata": {},
   "outputs": [],
   "source": []
  }
 ],
 "metadata": {
  "kernelspec": {
   "display_name": "Python 3 (ipykernel)",
   "language": "python",
   "name": "python3"
  },
  "language_info": {
   "codemirror_mode": {
    "name": "ipython",
    "version": 3
   },
   "file_extension": ".py",
   "mimetype": "text/x-python",
   "name": "python",
   "nbconvert_exporter": "python",
   "pygments_lexer": "ipython3",
   "version": "3.11.0rc1"
  }
 },
 "nbformat": 4,
 "nbformat_minor": 5
}
